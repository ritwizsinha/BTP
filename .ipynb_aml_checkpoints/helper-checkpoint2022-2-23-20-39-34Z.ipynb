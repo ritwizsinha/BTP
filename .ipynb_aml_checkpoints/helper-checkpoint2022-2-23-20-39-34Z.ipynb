{
 "cells": [
  {
   "cell_type": "code",
   "execution_count": 1,
   "metadata": {},
   "outputs": [
    {
     "name": "stdout",
     "output_type": "stream",
     "text": [
      "Split off 655 mols for testing\n",
      "Split remaining mols into a 5301/589 split for train and validation\n"
     ]
    },
    {
     "name": "stderr",
     "output_type": "stream",
     "text": [
      "/anaconda/envs/deepgraphmolgen/lib/python3.7/site-packages/ipykernel_launcher.py:6: FutureWarning: In a future version of pandas all arguments of DataFrame.drop except for the argument 'labels' will be keyword-only\n",
      "  \n",
      "/anaconda/envs/deepgraphmolgen/lib/python3.7/site-packages/ipykernel_launcher.py:7: FutureWarning: In a future version of pandas all arguments of DataFrame.drop except for the argument 'labels' will be keyword-only\n",
      "  import sys\n"
     ]
    }
   ],
   "source": [
    "import pandas as pd\n",
    "import numpy as np\n",
    "from sklearn.model_selection import train_test_split\n",
    "\n",
    "data  = pd.read_csv('protease_only_id_smiles_IC50_deduped.csv')\n",
    "data.drop('pIC50_std', 1, inplace=True)\n",
    "data.drop('pIC50',1, inplace=True)\n",
    "data.rename(columns={'smiles': 'SMILES'}, inplace=True)\n",
    "train_data, test_data = train_test_split(data, test_size=0.1, random_state=1)\n",
    "print(f'Split off {len(test_data)} mols for testing')\n",
    "\n",
    "train_data, val_data = train_test_split(train_data, test_size=0.1, random_state=2)\n",
    "print(f'Split remaining mols into a {len(train_data)}/{len(val_data)} split for train and validation')\n",
    "\n",
    "path=\"./data/pre-training/anti-sars/\"\n",
    "train_data.to_csv(path + 'train.smi', index=False)\n",
    "val_data.to_csv(path + 'valid.smi', index=False)\n",
    "test_data.to_csv(path + 'test.smi', index=False)"
   ]
  }
 ],
 "metadata": {
  "interpreter": {
   "hash": "bb8a4903caeccf9bcec27e55bb2fe15b39618b501e883f6b281d171b84b21f28"
  },
  "kernelspec": {
   "display_name": "Python 3.7.0 64-bit ('deepgraphmolgen': conda)",
   "language": "python",
   "name": "python3"
  },
  "language_info": {
   "codemirror_mode": {
    "name": "ipython",
    "version": 3
   },
   "file_extension": ".py",
   "mimetype": "text/x-python",
   "name": "python",
   "nbconvert_exporter": "python",
   "pygments_lexer": "ipython3",
   "version": "3.7.0"
  },
  "orig_nbformat": 4
 },
 "nbformat": 4,
 "nbformat_minor": 2
}
