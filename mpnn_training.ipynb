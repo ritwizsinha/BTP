{
 "cells": [
  {
   "cell_type": "code",
   "execution_count": 1,
   "metadata": {},
   "outputs": [],
   "source": [
    "%matplotlib inline\n",
    "from matplotlib import pyplot as plt\n",
    "from molgym.mpnn.layers import GraphNetwork, Squeeze\n",
    "from molgym.mpnn.data import make_data_loader\n",
    "from tensorflow.keras.optimizers import Adam\n",
    "from tensorflow.keras.optimizers.schedules import InverseTimeDecay\n",
    "from tensorflow.keras.layers import Input, Lambda, Dense\n",
    "from tensorflow.keras.models import Model\n",
    "from tensorflow.keras import callbacks as cb\n",
    "from scipy.stats import spearmanr, kendalltau\n",
    "import tensorflow as tf\n",
    "import numpy as np\n",
    "import json"
   ]
  },
  {
   "cell_type": "code",
   "execution_count": 2,
   "metadata": {},
   "outputs": [],
   "source": [
    "train_loader = make_data_loader('train_data.proto', shuffle_buffer=1024)\n",
    "val_loader = make_data_loader('val_data.proto')\n",
    "test_loader = make_data_loader('test_data.proto')"
   ]
  },
  {
   "cell_type": "code",
   "execution_count": 3,
   "metadata": {},
   "outputs": [],
   "source": [
    "with open('atom_types.json') as fp:\n",
    "    atom_type_count = len(json.load(fp))\n",
    "with open('bond_types.json') as fp:\n",
    "    bond_type_count = len(json.load(fp))"
   ]
  },
  {
   "cell_type": "code",
   "execution_count": 4,
   "metadata": {},
   "outputs": [],
   "source": [
    "def build_fn(atom_features=64, message_steps=8):\n",
    "    node_graph_indices = Input(shape=(1,), name='node_graph_indices', dtype='int32')\n",
    "    atom_types = Input(shape=(1,), name='atom', dtype='int32')\n",
    "    bond_types = Input(shape=(1,), name='bond', dtype='int32')\n",
    "    connectivity = Input(shape=(2,), name='connectivity', dtype='int32')\n",
    "    \n",
    "    # Squeeze the node graph and connectivity matrices\n",
    "    snode_graph_indices = Squeeze(axis=1)(node_graph_indices)\n",
    "    satom_types = Squeeze(axis=1)(atom_types)\n",
    "    sbond_types = Squeeze(axis=1)(bond_types)\n",
    "    \n",
    "    output = GraphNetwork(atom_type_count, bond_type_count, atom_features, message_steps,\n",
    "                          output_layer_sizes=[512, 256, 128],\n",
    "                          atomic_contribution=False, reduce_function='max',\n",
    "                          name='mpnn')([satom_types, sbond_types, snode_graph_indices, connectivity])\n",
    "    \n",
    "    # Scale the output\n",
    "    output = Dense(1, activation='linear', name='scale')(output)\n",
    "    \n",
    "    return Model(inputs=[node_graph_indices, atom_types, bond_types, connectivity],\n",
    "                 outputs=output)"
   ]
  },
  {
   "cell_type": "code",
   "execution_count": 5,
   "metadata": {},
   "outputs": [],
   "source": [
    "model = build_fn(atom_features=256, message_steps=8)"
   ]
  },
  {
   "cell_type": "code",
   "execution_count": 7,
   "metadata": {},
   "outputs": [],
   "source": [
    "ic50s = np.concatenate([x[1].numpy() for x in iter(train_loader)], axis=0)"
   ]
  },
  {
   "cell_type": "code",
   "execution_count": 8,
   "metadata": {},
   "outputs": [],
   "source": [
    "model.get_layer('scale').set_weights([np.array([[ic50s.std()]]), np.array([ic50s.mean()])])"
   ]
  },
  {
   "cell_type": "code",
   "execution_count": 6,
   "metadata": {},
   "outputs": [],
   "source": [
    "model.compile(Adam(InverseTimeDecay(1e-3, 64, 0.5)), 'mean_squared_error', metrics=['mean_absolute_error'])"
   ]
  },
  {
   "cell_type": "code",
   "execution_count": 10,
   "metadata": {},
   "outputs": [
    {
     "name": "stderr",
     "output_type": "stream",
     "text": [
      "/anaconda/envs/RL-GraphINVENT-env/lib/python3.6/site-packages/tensorflow_core/python/framework/indexed_slices.py:433: UserWarning: Converting sparse IndexedSlices to a dense Tensor of unknown shape. This may consume a large amount of memory.\n",
      "  \"Converting sparse IndexedSlices to a dense Tensor of unknown shape. \"\n",
      "/anaconda/envs/RL-GraphINVENT-env/lib/python3.6/site-packages/tensorflow_core/python/framework/indexed_slices.py:433: UserWarning: Converting sparse IndexedSlices to a dense Tensor of unknown shape. This may consume a large amount of memory.\n",
      "  \"Converting sparse IndexedSlices to a dense Tensor of unknown shape. \"\n",
      "/anaconda/envs/RL-GraphINVENT-env/lib/python3.6/site-packages/tensorflow_core/python/framework/indexed_slices.py:433: UserWarning: Converting sparse IndexedSlices to a dense Tensor of unknown shape. This may consume a large amount of memory.\n",
      "  \"Converting sparse IndexedSlices to a dense Tensor of unknown shape. \"\n",
      "/anaconda/envs/RL-GraphINVENT-env/lib/python3.6/site-packages/tensorflow_core/python/framework/indexed_slices.py:433: UserWarning: Converting sparse IndexedSlices to a dense Tensor of unknown shape. This may consume a large amount of memory.\n",
      "  \"Converting sparse IndexedSlices to a dense Tensor of unknown shape. \"\n",
      "/anaconda/envs/RL-GraphINVENT-env/lib/python3.6/site-packages/tensorflow_core/python/framework/indexed_slices.py:433: UserWarning: Converting sparse IndexedSlices to a dense Tensor of unknown shape. This may consume a large amount of memory.\n",
      "  \"Converting sparse IndexedSlices to a dense Tensor of unknown shape. \"\n",
      "/anaconda/envs/RL-GraphINVENT-env/lib/python3.6/site-packages/tensorflow_core/python/framework/indexed_slices.py:433: UserWarning: Converting sparse IndexedSlices to a dense Tensor of unknown shape. This may consume a large amount of memory.\n",
      "  \"Converting sparse IndexedSlices to a dense Tensor of unknown shape. \"\n",
      "/anaconda/envs/RL-GraphINVENT-env/lib/python3.6/site-packages/tensorflow_core/python/framework/indexed_slices.py:433: UserWarning: Converting sparse IndexedSlices to a dense Tensor of unknown shape. This may consume a large amount of memory.\n",
      "  \"Converting sparse IndexedSlices to a dense Tensor of unknown shape. \"\n",
      "/anaconda/envs/RL-GraphINVENT-env/lib/python3.6/site-packages/tensorflow_core/python/framework/indexed_slices.py:433: UserWarning: Converting sparse IndexedSlices to a dense Tensor of unknown shape. This may consume a large amount of memory.\n",
      "  \"Converting sparse IndexedSlices to a dense Tensor of unknown shape. \"\n",
      "/anaconda/envs/RL-GraphINVENT-env/lib/python3.6/site-packages/tensorflow_core/python/framework/indexed_slices.py:433: UserWarning: Converting sparse IndexedSlices to a dense Tensor of unknown shape. This may consume a large amount of memory.\n",
      "  \"Converting sparse IndexedSlices to a dense Tensor of unknown shape. \"\n",
      "/anaconda/envs/RL-GraphINVENT-env/lib/python3.6/site-packages/tensorflow_core/python/framework/indexed_slices.py:433: UserWarning: Converting sparse IndexedSlices to a dense Tensor of unknown shape. This may consume a large amount of memory.\n",
      "  \"Converting sparse IndexedSlices to a dense Tensor of unknown shape. \"\n",
      "/anaconda/envs/RL-GraphINVENT-env/lib/python3.6/site-packages/tensorflow_core/python/framework/indexed_slices.py:433: UserWarning: Converting sparse IndexedSlices to a dense Tensor of unknown shape. This may consume a large amount of memory.\n",
      "  \"Converting sparse IndexedSlices to a dense Tensor of unknown shape. \"\n",
      "/anaconda/envs/RL-GraphINVENT-env/lib/python3.6/site-packages/tensorflow_core/python/framework/indexed_slices.py:433: UserWarning: Converting sparse IndexedSlices to a dense Tensor of unknown shape. This may consume a large amount of memory.\n",
      "  \"Converting sparse IndexedSlices to a dense Tensor of unknown shape. \"\n",
      "/anaconda/envs/RL-GraphINVENT-env/lib/python3.6/site-packages/tensorflow_core/python/framework/indexed_slices.py:433: UserWarning: Converting sparse IndexedSlices to a dense Tensor of unknown shape. This may consume a large amount of memory.\n",
      "  \"Converting sparse IndexedSlices to a dense Tensor of unknown shape. \"\n",
      "/anaconda/envs/RL-GraphINVENT-env/lib/python3.6/site-packages/tensorflow_core/python/framework/indexed_slices.py:433: UserWarning: Converting sparse IndexedSlices to a dense Tensor of unknown shape. This may consume a large amount of memory.\n",
      "  \"Converting sparse IndexedSlices to a dense Tensor of unknown shape. \"\n",
      "/anaconda/envs/RL-GraphINVENT-env/lib/python3.6/site-packages/tensorflow_core/python/framework/indexed_slices.py:433: UserWarning: Converting sparse IndexedSlices to a dense Tensor of unknown shape. This may consume a large amount of memory.\n",
      "  \"Converting sparse IndexedSlices to a dense Tensor of unknown shape. \"\n",
      "/anaconda/envs/RL-GraphINVENT-env/lib/python3.6/site-packages/tensorflow_core/python/framework/indexed_slices.py:433: UserWarning: Converting sparse IndexedSlices to a dense Tensor of unknown shape. This may consume a large amount of memory.\n",
      "  \"Converting sparse IndexedSlices to a dense Tensor of unknown shape. \"\n"
     ]
    }
   ],
   "source": [
    "history = model.fit(train_loader, validation_data=val_loader, epochs=10, verbose=False, \n",
    "                   shuffle=False, callbacks=[\n",
    "                       cb.ModelCheckpoint('best_model.h5', save_best_only=True),\n",
    "                       cb.EarlyStopping(patience=128, restore_best_weights=True),\n",
    "                       cb.CSVLogger('train_log.csv'),\n",
    "                       cb.TerminateOnNaN()\n",
    "                   ])"
   ]
  },
  {
   "cell_type": "code",
   "execution_count": 9,
   "metadata": {},
   "outputs": [
    {
     "name": "stdout",
     "output_type": "stream",
     "text": [
      "WARNING:tensorflow:Skipping full serialization of Keras layer <tensorflow.python.keras.layers.core.Dense object at 0x7f0fc47702e8>, because it is not built.\n",
      "INFO:tensorflow:Assets written to: ./saved_models/mpnn_12_4_22/assets\n"
     ]
    }
   ],
   "source": [
    "model.load_weights('model.h5')\n",
    "model.save('./saved_models/mpnn_12_4_22')"
   ]
  }
 ],
 "metadata": {
  "kernelspec": {
   "display_name": "RL-GraphINVENT-env",
   "language": "python",
   "name": "rl-graphinvent-env"
  },
  "language_info": {
   "codemirror_mode": {
    "name": "ipython",
    "version": 3
   },
   "file_extension": ".py",
   "mimetype": "text/x-python",
   "name": "python",
   "nbconvert_exporter": "python",
   "pygments_lexer": "ipython3",
   "version": "3.6.8"
  },
  "orig_nbformat": 4
 },
 "nbformat": 4,
 "nbformat_minor": 2
}
